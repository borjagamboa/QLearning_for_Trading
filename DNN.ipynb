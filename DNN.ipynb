{
 "cells": [
  {
   "cell_type": "code",
   "execution_count": 52,
   "id": "45268bfe-2ccd-4f4a-9751-5008b3503704",
   "metadata": {},
   "outputs": [
    {
     "ename": "NameError",
     "evalue": "name 'os' is not defined",
     "output_type": "error",
     "traceback": [
      "\u001b[1;31m---------------------------------------------------------------------------\u001b[0m",
      "\u001b[1;31mNameError\u001b[0m                                 Traceback (most recent call last)",
      "Cell \u001b[1;32mIn[52], line 1\u001b[0m\n\u001b[1;32m----> 1\u001b[0m os\u001b[38;5;241m.\u001b[39mchdir(\u001b[38;5;124mr\u001b[39m\u001b[38;5;124m'\u001b[39m\u001b[38;5;124mC:\u001b[39m\u001b[38;5;124m\\\u001b[39m\u001b[38;5;124mUsers\u001b[39m\u001b[38;5;124m\\\u001b[39m\u001b[38;5;124mbgamb\u001b[39m\u001b[38;5;124m\\\u001b[39m\u001b[38;5;124mPycharmProjects\u001b[39m\u001b[38;5;124m\\\u001b[39m\u001b[38;5;124mIB\u001b[39m\u001b[38;5;124m\\\u001b[39m\u001b[38;5;124mData\u001b[39m\u001b[38;5;124m'\u001b[39m)\n",
      "\u001b[1;31mNameError\u001b[0m: name 'os' is not defined"
     ]
    }
   ],
   "source": [
    "os.chdir(r'C:\\Users\\bgamb\\PycharmProjects\\IB\\Data')"
   ]
  },
  {
   "cell_type": "code",
   "execution_count": 51,
   "id": "eab23d8d-f955-46fd-99eb-b008c7f21a62",
   "metadata": {},
   "outputs": [],
   "source": [
    "import numpy as np\n",
    "import keras\n",
    "import pandas as pd\n",
    "from tensorflow.keras.layers import Dense\n",
    "from keras.src.optimizers import Adam\n",
    "from collections import deque\n",
    "import random\n",
    "import pickle"
   ]
  },
  {
   "cell_type": "code",
   "execution_count": 1,
   "id": "a03922e3-e683-4ab1-bfd8-62efbd271bf7",
   "metadata": {},
   "outputs": [],
   "source": [
    "from keras.models import load_model"
   ]
  },
  {
   "cell_type": "code",
   "execution_count": 34,
   "id": "27855e9a-bd64-4954-a857-a80efd6f5fb0",
   "metadata": {},
   "outputs": [],
   "source": [
    "from datetime import datetime\n",
    "from sklearn.cluster import KMeans\n",
    "import os, glob, sys\n",
    "import time, threading\n",
    "import pandas as pd\n",
    "import matplotlib\n",
    "import matplotlib.pyplot as plt\n",
    "import numpy as np"
   ]
  },
  {
   "cell_type": "code",
   "execution_count": 7,
   "id": "6ea735a8-2b6c-4057-b634-09c870240306",
   "metadata": {},
   "outputs": [],
   "source": [
    "model = keras.models.Sequential()\n",
    "model.add(keras.Input((8,)))\n",
    "model.add(Dense(24, activation='relu'))\n",
    "model.add(Dense(1, activation='linear'))\n",
    "model.compile(loss='categorical_crossentropy', optimizer='rmsprop')"
   ]
  },
  {
   "cell_type": "code",
   "execution_count": 122,
   "id": "9a06ff44-e541-4d88-82d0-7d475b14ba27",
   "metadata": {},
   "outputs": [],
   "source": [
    "model = load_model('dqn_trading_model_400.keras')"
   ]
  },
  {
   "cell_type": "code",
   "execution_count": 28,
   "id": "2e260183-e589-498e-8a9a-7f3bb8201d32",
   "metadata": {},
   "outputs": [],
   "source": [
    "def bollinger_bands(series: pd.Series, length: int = 20, *, num_stds: tuple[float, ...] = (2, 0, -2), prefix: str = '') -> pd.DataFrame:\n",
    "    # Ref: https://stackoverflow.com/a/74283044/\n",
    "    rolling = series.rolling(length)\n",
    "    bband0 = rolling.mean()\n",
    "    bband_std = rolling.std(ddof=0)\n",
    "    return pd.DataFrame({f'{prefix}{num_std}': (bband0 + (bband_std * num_std)) for num_std in num_stds})"
   ]
  },
  {
   "cell_type": "code",
   "execution_count": 30,
   "id": "77feebef-8255-4dfc-ae2d-a260e2e3f22f",
   "metadata": {},
   "outputs": [],
   "source": [
    "def agregate_indicator(data, column, indicator, length = 20, num_stds = (2, 0, -2), prefix='BB_'):\n",
    "    if indicator == 'bollinger':\n",
    "        b_bands = bollinger_bands(data[column], length, num_stds=num_stds, prefix=prefix)\n",
    "    data = data.join(b_bands, on=['DateTime']).iloc[length:]\n",
    "    return data"
   ]
  },
  {
   "cell_type": "code",
   "execution_count": 29,
   "id": "dde29348-5c2d-4783-bd26-aa55c3015897",
   "metadata": {},
   "outputs": [],
   "source": [
    "def agregate_categories(data, n_clusters):\n",
    "    # Convert DataFrame to matrix\n",
    "    mat = data.values\n",
    "    # Using sklearn\n",
    "    km = KMeans(n_clusters=n_clusters)\n",
    "    km.fit(mat)\n",
    "    # Get cluster assignment labels\n",
    "    labels = km.labels_\n",
    "    # Format results as a DataFrame\n",
    "    results = pd.DataFrame([data.index, labels]).T\n",
    "    results.columns = ['DateTime', 'Category']\n",
    "    results.set_index('DateTime', inplace=True)\n",
    "    results = pd.to_numeric(results['Category'])\n",
    "    data = data.join(results, on=['DateTime'])\n",
    "    return data"
   ]
  },
  {
   "cell_type": "code",
   "execution_count": 26,
   "id": "550ccd1a-e67e-4373-872e-f99fc7974b5a",
   "metadata": {},
   "outputs": [],
   "source": [
    "ticker = 'BTC'\n",
    "path = os.path.join(ticker, '*')\n",
    "path_to_file = glob.glob(path)[-1]"
   ]
  },
  {
   "cell_type": "code",
   "execution_count": 35,
   "id": "ca753e61-d09b-4856-bed7-86ea9e2599e9",
   "metadata": {},
   "outputs": [
    {
     "name": "stderr",
     "output_type": "stream",
     "text": [
      "C:\\Users\\bgamb\\anaconda3\\Lib\\site-packages\\sklearn\\cluster\\_kmeans.py:870: FutureWarning: The default value of `n_init` will change from 10 to 'auto' in 1.4. Set the value of `n_init` explicitly to suppress the warning\n",
      "  warnings.warn(\n",
      "C:\\Users\\bgamb\\anaconda3\\Lib\\site-packages\\sklearn\\cluster\\_kmeans.py:1382: UserWarning: KMeans is known to have a memory leak on Windows with MKL, when there are less chunks than available threads. You can avoid it by setting the environment variable OMP_NUM_THREADS=6.\n",
      "  warnings.warn(\n"
     ]
    }
   ],
   "source": [
    "data = pd.read_csv(path_to_file, index_col='DateTime')\n",
    "data = agregate_indicator(data, column='Close', indicator='bollinger',\n",
    "                          length=10,num_stds=(1.5, 0, -1.5),\n",
    "                          prefix='CloseBB5_')\n",
    "test_data = agregate_categories(data, n_clusters=25)"
   ]
  },
  {
   "cell_type": "code",
   "execution_count": 36,
   "id": "ce72d5d1-0796-4fa8-81eb-797eface1c30",
   "metadata": {},
   "outputs": [
    {
     "data": {
      "text/html": [
       "<div>\n",
       "<style scoped>\n",
       "    .dataframe tbody tr th:only-of-type {\n",
       "        vertical-align: middle;\n",
       "    }\n",
       "\n",
       "    .dataframe tbody tr th {\n",
       "        vertical-align: top;\n",
       "    }\n",
       "\n",
       "    .dataframe thead th {\n",
       "        text-align: right;\n",
       "    }\n",
       "</style>\n",
       "<table border=\"1\" class=\"dataframe\">\n",
       "  <thead>\n",
       "    <tr style=\"text-align: right;\">\n",
       "      <th></th>\n",
       "      <th>Open</th>\n",
       "      <th>High</th>\n",
       "      <th>Low</th>\n",
       "      <th>Close</th>\n",
       "      <th>CloseBB5_1.5</th>\n",
       "      <th>CloseBB5_0</th>\n",
       "      <th>CloseBB5_-1.5</th>\n",
       "      <th>Category</th>\n",
       "    </tr>\n",
       "    <tr>\n",
       "      <th>DateTime</th>\n",
       "      <th></th>\n",
       "      <th></th>\n",
       "      <th></th>\n",
       "      <th></th>\n",
       "      <th></th>\n",
       "      <th></th>\n",
       "      <th></th>\n",
       "      <th></th>\n",
       "    </tr>\n",
       "  </thead>\n",
       "  <tbody>\n",
       "    <tr>\n",
       "      <th>2024-04-03 06:00:00</th>\n",
       "      <td>66127.00</td>\n",
       "      <td>66417.50</td>\n",
       "      <td>66104.25</td>\n",
       "      <td>66406.75</td>\n",
       "      <td>66431.955905</td>\n",
       "      <td>65930.450</td>\n",
       "      <td>65428.944095</td>\n",
       "      <td>13</td>\n",
       "    </tr>\n",
       "    <tr>\n",
       "      <th>2024-04-03 07:00:00</th>\n",
       "      <td>66406.75</td>\n",
       "      <td>66509.00</td>\n",
       "      <td>66180.75</td>\n",
       "      <td>66187.75</td>\n",
       "      <td>66478.527171</td>\n",
       "      <td>65978.375</td>\n",
       "      <td>65478.222829</td>\n",
       "      <td>13</td>\n",
       "    </tr>\n",
       "    <tr>\n",
       "      <th>2024-04-03 08:00:00</th>\n",
       "      <td>66187.50</td>\n",
       "      <td>66664.75</td>\n",
       "      <td>66065.00</td>\n",
       "      <td>66550.25</td>\n",
       "      <td>66604.583645</td>\n",
       "      <td>66050.475</td>\n",
       "      <td>65496.366355</td>\n",
       "      <td>13</td>\n",
       "    </tr>\n",
       "    <tr>\n",
       "      <th>2024-04-03 09:00:00</th>\n",
       "      <td>66550.00</td>\n",
       "      <td>66648.00</td>\n",
       "      <td>66400.00</td>\n",
       "      <td>66514.00</td>\n",
       "      <td>66658.491042</td>\n",
       "      <td>66155.550</td>\n",
       "      <td>65652.608958</td>\n",
       "      <td>13</td>\n",
       "    </tr>\n",
       "    <tr>\n",
       "      <th>2024-04-03 10:00:00</th>\n",
       "      <td>66513.75</td>\n",
       "      <td>66551.50</td>\n",
       "      <td>66090.00</td>\n",
       "      <td>66216.25</td>\n",
       "      <td>66572.129268</td>\n",
       "      <td>66236.575</td>\n",
       "      <td>65901.020732</td>\n",
       "      <td>13</td>\n",
       "    </tr>\n",
       "  </tbody>\n",
       "</table>\n",
       "</div>"
      ],
      "text/plain": [
       "                         Open      High       Low     Close  CloseBB5_1.5  \\\n",
       "DateTime                                                                    \n",
       "2024-04-03 06:00:00  66127.00  66417.50  66104.25  66406.75  66431.955905   \n",
       "2024-04-03 07:00:00  66406.75  66509.00  66180.75  66187.75  66478.527171   \n",
       "2024-04-03 08:00:00  66187.50  66664.75  66065.00  66550.25  66604.583645   \n",
       "2024-04-03 09:00:00  66550.00  66648.00  66400.00  66514.00  66658.491042   \n",
       "2024-04-03 10:00:00  66513.75  66551.50  66090.00  66216.25  66572.129268   \n",
       "\n",
       "                     CloseBB5_0  CloseBB5_-1.5  Category  \n",
       "DateTime                                                  \n",
       "2024-04-03 06:00:00   65930.450   65428.944095        13  \n",
       "2024-04-03 07:00:00   65978.375   65478.222829        13  \n",
       "2024-04-03 08:00:00   66050.475   65496.366355        13  \n",
       "2024-04-03 09:00:00   66155.550   65652.608958        13  \n",
       "2024-04-03 10:00:00   66236.575   65901.020732        13  "
      ]
     },
     "execution_count": 36,
     "metadata": {},
     "output_type": "execute_result"
    }
   ],
   "source": [
    "test_data.head()"
   ]
  },
  {
   "cell_type": "code",
   "execution_count": 48,
   "id": "85f723e9-43fe-4319-8592-36a8c7bba6e9",
   "metadata": {},
   "outputs": [
    {
     "name": "stdout",
     "output_type": "stream",
     "text": [
      "\u001b[1m1/1\u001b[0m \u001b[32m━━━━━━━━━━━━━━━━━━━━\u001b[0m\u001b[37m\u001b[0m \u001b[1m0s\u001b[0m 191ms/step\n"
     ]
    },
    {
     "data": {
      "text/plain": [
       "array([[-46509.055]], dtype=float32)"
      ]
     },
     "execution_count": 48,
     "metadata": {},
     "output_type": "execute_result"
    }
   ],
   "source": [
    "x = np.array(test_data.iloc[20].to_list())\n",
    "model.predict(x.reshape(1,8))"
   ]
  },
  {
   "cell_type": "code",
   "execution_count": 53,
   "id": "334c28f5-302b-40c1-8837-e237efbaaf98",
   "metadata": {},
   "outputs": [
    {
     "ename": "FileNotFoundError",
     "evalue": "[Errno 2] No such file or directory: 'q_table400.npy'",
     "output_type": "error",
     "traceback": [
      "\u001b[1;31m---------------------------------------------------------------------------\u001b[0m",
      "\u001b[1;31mFileNotFoundError\u001b[0m                         Traceback (most recent call last)",
      "Cell \u001b[1;32mIn[53], line 1\u001b[0m\n\u001b[1;32m----> 1\u001b[0m np\u001b[38;5;241m.\u001b[39mload(\u001b[38;5;124m'\u001b[39m\u001b[38;5;124mq_table400.npy\u001b[39m\u001b[38;5;124m'\u001b[39m)\n",
      "File \u001b[1;32m~\\anaconda3\\Lib\\site-packages\\numpy\\lib\\npyio.py:427\u001b[0m, in \u001b[0;36mload\u001b[1;34m(file, mmap_mode, allow_pickle, fix_imports, encoding, max_header_size)\u001b[0m\n\u001b[0;32m    425\u001b[0m     own_fid \u001b[38;5;241m=\u001b[39m \u001b[38;5;28;01mFalse\u001b[39;00m\n\u001b[0;32m    426\u001b[0m \u001b[38;5;28;01melse\u001b[39;00m:\n\u001b[1;32m--> 427\u001b[0m     fid \u001b[38;5;241m=\u001b[39m stack\u001b[38;5;241m.\u001b[39menter_context(\u001b[38;5;28mopen\u001b[39m(os_fspath(file), \u001b[38;5;124m\"\u001b[39m\u001b[38;5;124mrb\u001b[39m\u001b[38;5;124m\"\u001b[39m))\n\u001b[0;32m    428\u001b[0m     own_fid \u001b[38;5;241m=\u001b[39m \u001b[38;5;28;01mTrue\u001b[39;00m\n\u001b[0;32m    430\u001b[0m \u001b[38;5;66;03m# Code to distinguish from NumPy binary files and pickles.\u001b[39;00m\n",
      "\u001b[1;31mFileNotFoundError\u001b[0m: [Errno 2] No such file or directory: 'q_table400.npy'"
     ]
    }
   ],
   "source": [
    "np.load('q_table400.npy')"
   ]
  },
  {
   "cell_type": "code",
   "execution_count": 1,
   "id": "4977b36b-330a-4bda-855c-616c35573281",
   "metadata": {},
   "outputs": [
    {
     "ename": "FileNotFoundError",
     "evalue": "[Errno 2] No such file or directory: 'q_memory300'",
     "output_type": "error",
     "traceback": [
      "\u001b[1;31m---------------------------------------------------------------------------\u001b[0m",
      "\u001b[1;31mFileNotFoundError\u001b[0m                         Traceback (most recent call last)",
      "Cell \u001b[1;32mIn[1], line 1\u001b[0m\n\u001b[1;32m----> 1\u001b[0m \u001b[38;5;28;01mwith\u001b[39;00m \u001b[38;5;28mopen\u001b[39m(\u001b[38;5;124mf\u001b[39m\u001b[38;5;124m\"\u001b[39m\u001b[38;5;124mq_memory300\u001b[39m\u001b[38;5;124m\"\u001b[39m, \u001b[38;5;124m\"\u001b[39m\u001b[38;5;124mrb\u001b[39m\u001b[38;5;124m\"\u001b[39m) \u001b[38;5;28;01mas\u001b[39;00m reader:\n\u001b[0;32m      2\u001b[0m     memory \u001b[38;5;241m=\u001b[39m pickle\u001b[38;5;241m.\u001b[39mload(reader)\n\u001b[0;32m      3\u001b[0m reader\u001b[38;5;241m.\u001b[39mclose()\n",
      "File \u001b[1;32m~\\anaconda3\\Lib\\site-packages\\IPython\\core\\interactiveshell.py:310\u001b[0m, in \u001b[0;36m_modified_open\u001b[1;34m(file, *args, **kwargs)\u001b[0m\n\u001b[0;32m    303\u001b[0m \u001b[38;5;28;01mif\u001b[39;00m file \u001b[38;5;129;01min\u001b[39;00m {\u001b[38;5;241m0\u001b[39m, \u001b[38;5;241m1\u001b[39m, \u001b[38;5;241m2\u001b[39m}:\n\u001b[0;32m    304\u001b[0m     \u001b[38;5;28;01mraise\u001b[39;00m \u001b[38;5;167;01mValueError\u001b[39;00m(\n\u001b[0;32m    305\u001b[0m         \u001b[38;5;124mf\u001b[39m\u001b[38;5;124m\"\u001b[39m\u001b[38;5;124mIPython won\u001b[39m\u001b[38;5;124m'\u001b[39m\u001b[38;5;124mt let you open fd=\u001b[39m\u001b[38;5;132;01m{\u001b[39;00mfile\u001b[38;5;132;01m}\u001b[39;00m\u001b[38;5;124m by default \u001b[39m\u001b[38;5;124m\"\u001b[39m\n\u001b[0;32m    306\u001b[0m         \u001b[38;5;124m\"\u001b[39m\u001b[38;5;124mas it is likely to crash IPython. If you know what you are doing, \u001b[39m\u001b[38;5;124m\"\u001b[39m\n\u001b[0;32m    307\u001b[0m         \u001b[38;5;124m\"\u001b[39m\u001b[38;5;124myou can use builtins\u001b[39m\u001b[38;5;124m'\u001b[39m\u001b[38;5;124m open.\u001b[39m\u001b[38;5;124m\"\u001b[39m\n\u001b[0;32m    308\u001b[0m     )\n\u001b[1;32m--> 310\u001b[0m \u001b[38;5;28;01mreturn\u001b[39;00m io_open(file, \u001b[38;5;241m*\u001b[39margs, \u001b[38;5;241m*\u001b[39m\u001b[38;5;241m*\u001b[39mkwargs)\n",
      "\u001b[1;31mFileNotFoundError\u001b[0m: [Errno 2] No such file or directory: 'q_memory300'"
     ]
    }
   ],
   "source": [
    "with open(f\"q_memory300\", \"rb\") as reader:\n",
    "    memory = pickle.load(reader)\n",
    "reader.close()"
   ]
  },
  {
   "cell_type": "code",
   "execution_count": 132,
   "id": "c0f5d039-ce26-46bc-814b-fef8bda152a1",
   "metadata": {},
   "outputs": [],
   "source": [
    "states = [inner[:-1] for inner in memory]\n",
    "actions = [inner[-1] for inner in memory]\n"
   ]
  },
  {
   "cell_type": "code",
   "execution_count": 2,
   "id": "964167af-820f-4127-b2b2-5718e7a881e1",
   "metadata": {},
   "outputs": [
    {
     "ename": "NameError",
     "evalue": "name 'actions' is not defined",
     "output_type": "error",
     "traceback": [
      "\u001b[1;31m---------------------------------------------------------------------------\u001b[0m",
      "\u001b[1;31mNameError\u001b[0m                                 Traceback (most recent call last)",
      "Cell \u001b[1;32mIn[2], line 1\u001b[0m\n\u001b[1;32m----> 1\u001b[0m action_array \u001b[38;5;241m=\u001b[39m [[\u001b[38;5;241m1\u001b[39m \u001b[38;5;28;01mif\u001b[39;00m i\u001b[38;5;241m==\u001b[39maction \u001b[38;5;28;01melse\u001b[39;00m \u001b[38;5;241m0\u001b[39m \u001b[38;5;28;01mfor\u001b[39;00m i \u001b[38;5;129;01min\u001b[39;00m \u001b[38;5;28mrange\u001b[39m(\u001b[38;5;241m0\u001b[39m,\u001b[38;5;241m3\u001b[39m)] \u001b[38;5;28;01mfor\u001b[39;00m action \u001b[38;5;129;01min\u001b[39;00m actions]\n",
      "\u001b[1;31mNameError\u001b[0m: name 'actions' is not defined"
     ]
    }
   ],
   "source": [
    "action_array = [[1 if i==action else 0 for i in range(0,3)] for action in actions]"
   ]
  },
  {
   "cell_type": "code",
   "execution_count": 138,
   "id": "c4f08d29-68b2-4717-ad51-18188d48eabe",
   "metadata": {},
   "outputs": [],
   "source": [
    "X_train = np.array(states[:round(len(X)*0.8)])\n",
    "Y_train = np.array(action_array[:round(len(Y)*0.8)])\n",
    "X_test = np.array(states[round(len(X)*0.8):])\n",
    "Y_test = np.array(action_array[round(len(X)*0.8):])"
   ]
  },
  {
   "cell_type": "code",
   "execution_count": 169,
   "id": "643c63f1-c8d3-48a3-b29d-e73b71d2ceb4",
   "metadata": {},
   "outputs": [
    {
     "name": "stdout",
     "output_type": "stream",
     "text": [
      "Model ready\n"
     ]
    }
   ],
   "source": [
    "model = keras.models.Sequential()\n",
    "model.add(keras.Input((8,)))\n",
    "model.add(Dense(3, activation='relu', name='hidden_layer_1'))\n",
    "model.add(Dense(4, activation='relu', name='hidden_layer_2'))\n",
    "model.add(Dense(3, activation='sigmoid', name='hidden_layer_3'))\n",
    "model.add(Dense(3, activation='softmax', name='output_layer'))\n",
    "model.compile(loss='categorical_crossentropy', optimizer=Adam(learning_rate=0.15), metrics=['accuracy'])\n",
    "print('Model ready')"
   ]
  },
  {
   "cell_type": "code",
   "execution_count": 170,
   "id": "7956cafb-0188-4069-b40b-38309672116b",
   "metadata": {},
   "outputs": [
    {
     "name": "stdout",
     "output_type": "stream",
     "text": [
      "Epoch 1/10\n",
      "\u001b[1m10523/10523\u001b[0m \u001b[32m━━━━━━━━━━━━━━━━━━━━\u001b[0m\u001b[37m\u001b[0m \u001b[1m75s\u001b[0m 6ms/step - accuracy: 0.3514 - loss: 1.1224\n",
      "Epoch 2/10\n",
      "\u001b[1m10523/10523\u001b[0m \u001b[32m━━━━━━━━━━━━━━━━━━━━\u001b[0m\u001b[37m\u001b[0m \u001b[1m66s\u001b[0m 6ms/step - accuracy: 0.3522 - loss: 1.1214\n",
      "Epoch 3/10\n",
      "\u001b[1m10523/10523\u001b[0m \u001b[32m━━━━━━━━━━━━━━━━━━━━\u001b[0m\u001b[37m\u001b[0m \u001b[1m61s\u001b[0m 6ms/step - accuracy: 0.3533 - loss: 1.1202\n",
      "Epoch 4/10\n",
      "\u001b[1m10523/10523\u001b[0m \u001b[32m━━━━━━━━━━━━━━━━━━━━\u001b[0m\u001b[37m\u001b[0m \u001b[1m53s\u001b[0m 5ms/step - accuracy: 0.3511 - loss: 1.1222\n",
      "Epoch 5/10\n",
      "\u001b[1m10523/10523\u001b[0m \u001b[32m━━━━━━━━━━━━━━━━━━━━\u001b[0m\u001b[37m\u001b[0m \u001b[1m61s\u001b[0m 6ms/step - accuracy: 0.3513 - loss: 1.1234\n",
      "Epoch 6/10\n",
      "\u001b[1m10523/10523\u001b[0m \u001b[32m━━━━━━━━━━━━━━━━━━━━\u001b[0m\u001b[37m\u001b[0m \u001b[1m67s\u001b[0m 6ms/step - accuracy: 0.3519 - loss: 1.1215\n",
      "Epoch 7/10\n",
      "\u001b[1m10523/10523\u001b[0m \u001b[32m━━━━━━━━━━━━━━━━━━━━\u001b[0m\u001b[37m\u001b[0m \u001b[1m82s\u001b[0m 8ms/step - accuracy: 0.3530 - loss: 1.1216\n",
      "Epoch 8/10\n",
      "\u001b[1m10523/10523\u001b[0m \u001b[32m━━━━━━━━━━━━━━━━━━━━\u001b[0m\u001b[37m\u001b[0m \u001b[1m73s\u001b[0m 7ms/step - accuracy: 0.3513 - loss: 1.1233\n",
      "Epoch 9/10\n",
      "\u001b[1m10523/10523\u001b[0m \u001b[32m━━━━━━━━━━━━━━━━━━━━\u001b[0m\u001b[37m\u001b[0m \u001b[1m67s\u001b[0m 6ms/step - accuracy: 0.3530 - loss: 1.1216\n",
      "Epoch 10/10\n",
      "\u001b[1m10523/10523\u001b[0m \u001b[32m━━━━━━━━━━━━━━━━━━━━\u001b[0m\u001b[37m\u001b[0m \u001b[1m52s\u001b[0m 5ms/step - accuracy: 0.3488 - loss: 1.1228\n"
     ]
    },
    {
     "data": {
      "text/plain": [
       "10.950359825293223"
      ]
     },
     "execution_count": 170,
     "metadata": {},
     "output_type": "execute_result"
    }
   ],
   "source": [
    "start = time.time()\n",
    "model.fit(X_train, Y_train, batch_size=30, epochs=10)\n",
    "end = time.time()\n",
    "(end-start)/60"
   ]
  },
  {
   "cell_type": "code",
   "execution_count": 166,
   "id": "72454f1f-bf26-4aeb-afd7-ae5403994336",
   "metadata": {},
   "outputs": [
    {
     "name": "stdout",
     "output_type": "stream",
     "text": [
      "\u001b[1m2467/2467\u001b[0m \u001b[32m━━━━━━━━━━━━━━━━━━━━\u001b[0m\u001b[37m\u001b[0m \u001b[1m13s\u001b[0m 5ms/step - accuracy: 0.4078 - loss: 9.5450\n"
     ]
    }
   ],
   "source": [
    "score = model.evaluate(X_test, Y_test)"
   ]
  },
  {
   "cell_type": "code",
   "execution_count": 149,
   "id": "ecfe40b2-d3c9-4ee4-a66f-510865191293",
   "metadata": {},
   "outputs": [
    {
     "data": {
      "text/plain": [
       "[1.0837546586990356, 0.40918880701065063]"
      ]
     },
     "execution_count": 149,
     "metadata": {},
     "output_type": "execute_result"
    }
   ],
   "source": [
    "score\n",
    "\n",
    "#X_test[2].reshape(1,8)"
   ]
  },
  {
   "cell_type": "code",
   "execution_count": 167,
   "id": "08066e28-4876-4322-a022-735d5a890c8f",
   "metadata": {},
   "outputs": [
    {
     "name": "stdout",
     "output_type": "stream",
     "text": [
      "\u001b[1m1/1\u001b[0m \u001b[32m━━━━━━━━━━━━━━━━━━━━\u001b[0m\u001b[37m\u001b[0m \u001b[1m0s\u001b[0m 291ms/step\n"
     ]
    },
    {
     "data": {
      "text/plain": [
       "array([[0.      , 0.      , 6.471728]], dtype=float32)"
      ]
     },
     "execution_count": 167,
     "metadata": {},
     "output_type": "execute_result"
    }
   ],
   "source": [
    "model.predict(np.array(X_test[80]).reshape(1,8))"
   ]
  },
  {
   "cell_type": "code",
   "execution_count": 168,
   "id": "f53827cd-c49b-4931-b215-c7f0ec7b6383",
   "metadata": {},
   "outputs": [
    {
     "data": {
      "text/plain": [
       "array([1, 0, 0])"
      ]
     },
     "execution_count": 168,
     "metadata": {},
     "output_type": "execute_result"
    }
   ],
   "source": [
    "Y_test[80]"
   ]
  },
  {
   "cell_type": "code",
   "execution_count": null,
   "id": "8125899d-9e6c-4bb2-9cd9-017e281e2a72",
   "metadata": {},
   "outputs": [],
   "source": []
  }
 ],
 "metadata": {
  "kernelspec": {
   "display_name": "Python 3 (ipykernel)",
   "language": "python",
   "name": "python3"
  },
  "language_info": {
   "codemirror_mode": {
    "name": "ipython",
    "version": 3
   },
   "file_extension": ".py",
   "mimetype": "text/x-python",
   "name": "python",
   "nbconvert_exporter": "python",
   "pygments_lexer": "ipython3",
   "version": "3.11.7"
  }
 },
 "nbformat": 4,
 "nbformat_minor": 5
}
